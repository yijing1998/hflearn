{
 "cells": [
  {
   "cell_type": "code",
   "execution_count": 11,
   "metadata": {},
   "outputs": [
    {
     "name": "stderr",
     "output_type": "stream",
     "text": [
      "Downloading builder script: 100%|██████████| 5.03k/5.03k [00:00<00:00, 2.02MB/s]\n",
      "Downloading metadata: 100%|██████████| 2.02k/2.02k [00:00<00:00, 805kB/s]\n",
      "Downloading readme: 100%|██████████| 7.25k/7.25k [00:00<00:00, 2.03MB/s]\n",
      "Downloading data: 100%|██████████| 488k/488k [00:00<00:00, 2.73MB/s]\n",
      "Generating train split: 100%|██████████| 8530/8530 [00:00<00:00, 13377.02 examples/s]\n",
      "Generating validation split: 100%|██████████| 1066/1066 [00:00<00:00, 9646.80 examples/s]\n",
      "Generating test split: 100%|██████████| 1066/1066 [00:00<00:00, 10134.11 examples/s]\n",
      "Saving the dataset (1/1 shards): 100%|██████████| 8530/8530 [00:00<00:00, 502682.38 examples/s]\n",
      "Saving the dataset (1/1 shards): 100%|██████████| 1066/1066 [00:00<00:00, 71768.86 examples/s]\n",
      "Saving the dataset (1/1 shards): 100%|██████████| 1066/1066 [00:00<00:00, 82123.43 examples/s] \n"
     ]
    }
   ],
   "source": [
    "from datasets import load_dataset\n",
    "\n",
    "dataset = load_dataset(\"rotten_tomatoes\")\n",
    "\n",
    "dataset.save_to_disk(dataset_dict_path='./data/rotten_tomatoes')"
   ]
  }
 ],
 "metadata": {
  "kernelspec": {
   "display_name": "Python 3",
   "language": "python",
   "name": "python3"
  },
  "language_info": {
   "codemirror_mode": {
    "name": "ipython",
    "version": 3
   },
   "file_extension": ".py",
   "mimetype": "text/x-python",
   "name": "python",
   "nbconvert_exporter": "python",
   "pygments_lexer": "ipython3",
   "version": "3.8.10"
  }
 },
 "nbformat": 4,
 "nbformat_minor": 2
}
